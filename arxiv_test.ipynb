{
 "cells": [
  {
   "cell_type": "code",
   "execution_count": 1,
   "metadata": {},
   "outputs": [],
   "source": [
    "# 從arXiv導入搜索功能\n",
    "from arxiv import Client, Search, SortCriterion\n",
    "import requests \n",
    "from bs4 import BeautifulSoup"
   ]
  },
  {
   "cell_type": "code",
   "execution_count": 18,
   "metadata": {},
   "outputs": [
    {
     "data": {
      "text/plain": [
       "<itertools.islice at 0x244e3272590>"
      ]
     },
     "execution_count": 18,
     "metadata": {},
     "output_type": "execute_result"
    }
   ],
   "source": [
    "# 創建默認的 API 客戶端\n",
    "client = Client()\n",
    "\n",
    "# 定義 arXiv 搜索條件\n",
    "arxiv_search = Search(\n",
    "    query=\"RAG\",\n",
    "    max_results=20,\n",
    "    sort_by=SortCriterion.SubmittedDate\n",
    ")\n",
    "results = client.results(arxiv_search)\n",
    "results"
   ]
  },
  {
   "cell_type": "code",
   "execution_count": 21,
   "metadata": {},
   "outputs": [],
   "source": [
    "# 遍歷搜索結果並打印相關信息\n",
    "for result in results:\n",
    "    paper_id = result.get_short_id()  # 短id\n",
    "    paper_title = result.title  # 文章標題\n",
    "    paper_url = result.entry_id  # 鏈接\n",
    "    paper_summary = result.summary.replace(\"\\n\", \"\")  # 文章摘要去掉換行符\n",
    "    paper_first_author = result.authors[0]  # 文章的第一作者\n",
    "    publish_time = result.published.date()  # 發表的發布日期\n",
    "    update_time = result.updated.date()  # 文章的更新時間\n",
    "    paper_stars = get_stars(get_paper_code_url(paper_id))\n",
    "    #print(str(paper_stars) + \"\\n\")"
   ]
  },
  {
   "cell_type": "code",
   "execution_count": 17,
   "metadata": {},
   "outputs": [
    {
     "name": "stderr",
     "output_type": "stream",
     "text": [
      "c:\\Users\\HCWang\\.conda\\envs\\arxiv\\lib\\site-packages\\urllib3\\connectionpool.py:1103: InsecureRequestWarning: Unverified HTTPS request is being made to host 'api-edge.cognitive.microsofttranslator.com'. Adding certificate verification is strongly advised. See: https://urllib3.readthedocs.io/en/latest/advanced-usage.html#tls-warnings\n",
      "  warnings.warn(\n"
     ]
    },
    {
     "data": {
      "text/plain": [
       "'大规模语言模型（LLM）在各种语言任务中取得了显著的成功，但存在幻觉和时间错位。为了缓解这些缺点，检索增强生成（RAG）已被用于提供外部知识以促进答案生成。然而，由于缺乏特定领域的知识和现实世界场景的复杂性，将此类模型应用于医疗领域面临着一些挑战。在这项研究中，我们探索了具有 RAG 框架的 LLM，用于医学领域的知识密集型任务。为了评估 LLM 的能力，我们引入了 MedicineQA，这是一个多轮对话基准，模拟真实世界的药物咨询场景，并要求 LLM 回答从医学数据库中检索到的证据。MedicineQA 包含 300 个多轮问答对，每个问答对都嵌入在详细的对话历史中，突出了这项知识密集型任务对当前 LLM 构成的挑战。我们进一步提出了一个新的 \\\\textit{Distill-Retrieve-Read} 框架，而不是之前的 \\\\textit{Retrieve-then-Read}。具体来说，提炼和检索过程利用工具调用机制来制定搜索查询，以模拟搜索引擎使用的基于关键字的查询。通过实验结果，我们表明，我们的框架带来了显着的性能改进，并在证据检索过程中超越了以前的同行，在证据检索准确性方面。这一进步揭示了将RAG应用于医疗领域。'"
      ]
     },
     "execution_count": 17,
     "metadata": {},
     "output_type": "execute_result"
    }
   ],
   "source": [
    "paper_zh_summary = translate_zh_to_en(paper_summary)\n",
    "paper_zh_summary"
   ]
  },
  {
   "cell_type": "code",
   "execution_count": 6,
   "metadata": {},
   "outputs": [],
   "source": [
    "def get_paper_code_url(paper_id):\n",
    "    \"\"\"\n",
    "    獲取論文的 GitHub 代碼 URL\n",
    "\n",
    "    Args:\n",
    "        paper_id (str): 論文 ID\n",
    "\n",
    "    Returns:\n",
    "        str: GitHub 代碼 URL 或 None\n",
    "\n",
    "    Example:\n",
    "        >>> get_paper_code_url(\"12345\")\n",
    "        \"https://github.com/paperswithcode/paperswithcode/blob/master/code/12345.py\"\n",
    "    \"\"\"\n",
    "\n",
    "    base_url = \"https://arxiv.paperswithcode.com/api/v0/papers/\"\n",
    "    code_url = base_url + paper_id\n",
    "\n",
    "    code_response = requests.get(code_url, verify=False).json()\n",
    "\n",
    "    if \"official\" in code_response and code_response[\"official\"]:\n",
    "        github_code_url = code_response[\"official\"][\"url\"]\n",
    "        return github_code_url\n",
    "\n",
    "    return None"
   ]
  },
  {
   "cell_type": "code",
   "execution_count": 7,
   "metadata": {},
   "outputs": [],
   "source": [
    "def get_stars(github_code_url):\n",
    "    \"\"\"\n",
    "    獲取 GitHub 的星星數\n",
    "\n",
    "    Args:\n",
    "        github_code_url (str): GitHub URL\n",
    "\n",
    "    Returns:\n",
    "        int: 星星數\n",
    "\n",
    "    Example:\n",
    "        >>> get_stars(\"https://github.com/paperswithcode/\")\n",
    "        1234\n",
    "    \"\"\"\n",
    "    try:\n",
    "        # 訪問 GitHub 上的代碼倉庫主頁\n",
    "        code_html = requests.get(github_code_url, verify=False)\n",
    "\n",
    "        # 利用 BeautifulSoup 庫解析主頁，爬取標星數\n",
    "        soup = BeautifulSoup(code_html.text, \"html.parser\")\n",
    "\n",
    "        # 標星數的 HTML 元件\n",
    "        a_stars = soup.find_all(\"a\", href=github_code_url.split(\"https://github.com\")[-1] + \"stargazers\")\n",
    "\n",
    "        # 獲取 GitHub 上的項目標星數\n",
    "        stars = a_stars[0].text.strip().split(\"\\n\")[0]\n",
    "\n",
    "    except Exception:\n",
    "        stars = 0\n",
    "\n",
    "    return int(stars)"
   ]
  },
  {
   "cell_type": "code",
   "execution_count": 8,
   "metadata": {},
   "outputs": [],
   "source": [
    "def get_edge_token():\n",
    "    auth_url = \"https://edge.microsoft.com/translate/auth\"\n",
    "    auth_headers = {\n",
    "        \"Content-Type\": \"text/plain; charset=utf-8\"\n",
    "    }\n",
    "    Authorization = requests.get(auth_url, headers=auth_headers).text\n",
    "    return Authorization"
   ]
  },
  {
   "cell_type": "code",
   "execution_count": 9,
   "metadata": {},
   "outputs": [],
   "source": [
    "def url_option():\n",
    "    url = \"https://api-edge.cognitive.microsofttranslator.com/translate?from=en&to=zh-CHS&api-version=3.0&includeSentenceLength=true\"\n",
    "    #headers = { 用户的headers }\n",
    "    # 发送请求\n",
    "    # requests.options(url, headers=headers)\n",
    "    requests.options(url)"
   ]
  },
  {
   "cell_type": "code",
   "execution_count": 10,
   "metadata": {},
   "outputs": [],
   "source": [
    "#调用翻译API\n",
    "import json\n",
    "def get_translate(token, body):\n",
    "    # 翻译API\n",
    "    translate_url = \"https://api-edge.cognitive.microsofttranslator.com/translate?from=en&to=zh-CHS&api-version=3.0&includeSentenceLength=true\"\n",
    "    translate_headers = {\n",
    "        \"Authorization\": \"Bearer \" + str(token),\n",
    "        \"Content-Length\": str(len(json.dumps(body, separators=(\",\", \":\")))),\n",
    "        \"Content-Type\": \"application/json\"\n",
    "    }\n",
    "    res = requests.post(translate_url, headers=translate_headers, data=json.dumps(body, separators=(\",\", \":\")), verify=False)\n",
    "    return res"
   ]
  },
  {
   "cell_type": "code",
   "execution_count": 11,
   "metadata": {},
   "outputs": [],
   "source": [
    "def translate_zh_to_en(contents):\n",
    "    trans_contents = []\n",
    "    trans_contents.append({\"Text\": contents})\n",
    "    token = get_edge_token()  # 获取翻译API的使用Token\n",
    "    url_option()  # 向API发送预检信息\n",
    "    # 翻译摘要内容\n",
    "    trans_text = get_translate(token, body=trans_contents).json()\n",
    "    return trans_text[0][\"translations\"][0][\"text\"]"
   ]
  }
 ],
 "metadata": {
  "kernelspec": {
   "display_name": "arxiv",
   "language": "python",
   "name": "python3"
  },
  "language_info": {
   "codemirror_mode": {
    "name": "ipython",
    "version": 3
   },
   "file_extension": ".py",
   "mimetype": "text/x-python",
   "name": "python",
   "nbconvert_exporter": "python",
   "pygments_lexer": "ipython3",
   "version": "3.8.0"
  }
 },
 "nbformat": 4,
 "nbformat_minor": 2
}
